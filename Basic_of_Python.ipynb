{
  "nbformat": 4,
  "nbformat_minor": 0,
  "metadata": {
    "colab": {
      "provenance": [],
      "include_colab_link": true
    },
    "kernelspec": {
      "name": "python3",
      "display_name": "Python 3"
    },
    "language_info": {
      "name": "python"
    }
  },
  "cells": [
    {
      "cell_type": "markdown",
      "metadata": {
        "id": "view-in-github",
        "colab_type": "text"
      },
      "source": [
        "<a href=\"https://colab.research.google.com/github/Vijayg143/FMML-projects/blob/main/Basic_of_Python.ipynb\" target=\"_parent\"><img src=\"https://colab.research.google.com/assets/colab-badge.svg\" alt=\"Open In Colab\"/></a>"
      ]
    },
    {
      "cell_type": "markdown",
      "source": [
        "#Python\n"
      ],
      "metadata": {
        "id": "oPD19rYQ3Kdf"
      }
    },
    {
      "cell_type": "markdown",
      "source": [
        "                        \n",
        "#  Interductin to Python\n",
        "\n",
        "* **Python is an object orented and open source language developead in the 1980s by dutchman Guido van rossun.**\n",
        "* **van rossum used to work at CWI as in implementer of the programming lauguage call ABC.**\n",
        "***van rossum started lokking for a scripting launguages with a syntax like ABC.**\n",
        "* **Back in 1970s there was A POPULAR BBC comedy tv show called Monty pythons fly circus and van rossum happend to be the big fan of that show .**\n",
        "\n",
        "\n",
        "# Use of python\n",
        "\n",
        "**Web Development:**\n",
        "\n",
        "Frameworks like Django and Flask help in building web applications efficiently.\n",
        "\n",
        "Python can be used on a server to create web applicatins.\n",
        "\n",
        "**Data Analysis and Visualization:**\n",
        "\n",
        "Libraries like Pandas, NumPy, Matplotlib, and Seaborn make it easy to analyze and visualize data.\n",
        "\n",
        "**Game Development:**\n",
        "\n",
        "Libraries such as Pygame provide functionality for game development.\n",
        "\n",
        "\n",
        "**Education:**\n",
        "\n",
        "Python’s simplicity makes it a great language for teaching programming and computer science.\n",
        "\n",
        "\n",
        "**Robotics:**\n",
        "\n",
        "Python is used in robotics for developing algorithms, controlling hardware, and interfacing with sensors.**\n",
        "\n",
        "\n",
        "**Finance:**\n",
        "\n",
        "Used for quantitative finance, algorithmic trading, and financial data analysis.\n"
      ],
      "metadata": {
        "id": "3_g-eGCuszy2"
      }
    },
    {
      "cell_type": "markdown",
      "source": [
        "# Advantages of Python"
      ],
      "metadata": {
        "id": "wZAGMBHa3I8K"
      }
    },
    {
      "cell_type": "markdown",
      "source": [
        "**Easy to Read and Write:**\n",
        "\n",
        "Python has a simple syntax that mimics natural language, making it easier to read and write compared to other programming languages.\n",
        "\n",
        "**Interpreted Language:**\n",
        "\n",
        "Python is an interpreted language, which means that code can be executed line by line, making debugging and testing easier.\n",
        "\n",
        "**Integration Capabilities:**\n",
        "\n",
        "Python can easily integrate with other languages and technologies, such as C, C++, Java, and .NET, as well as with web services and APIs.\n",
        "\n",
        "**Educational Language:**\n",
        "\n",
        "Python is often recommended as the first programming language for beginners due to its simplicity and readability, making it an excellent language for educational purposes."
      ],
      "metadata": {
        "id": "IaG61Njr5bNv"
      }
    },
    {
      "cell_type": "markdown",
      "source": [
        "# Comments in Python"
      ],
      "metadata": {
        "id": "ePbwIGlO_JVz"
      }
    },
    {
      "cell_type": "markdown",
      "source": [
        "# Single-line Comments:\n",
        "\n",
        "Single-line comments start with the hash symbol \"#\" and extend to the end of the line."
      ],
      "metadata": {
        "id": "ROtpcIKX_huQ"
      }
    },
    {
      "cell_type": "code",
      "source": [
        "# This is a single-line comment\n",
        "print(\"Hello, World!\")  # This is another single-line comment\n"
      ],
      "metadata": {
        "id": "9E1QtOQB_q4B"
      },
      "execution_count": null,
      "outputs": []
    },
    {
      "cell_type": "markdown",
      "source": [
        "# Multi-line Comments:\n",
        "\n",
        "Multi-line comments can be created using triple quotes (''' or \"\"\"). Although these are technically string literals, they can be used as comments when not assigned to a variable or used in expressions."
      ],
      "metadata": {
        "id": "YjlRTH7P_uzJ"
      }
    },
    {
      "cell_type": "code",
      "source": [
        "'''\n",
        "This is a multi-line comment.\n",
        "It can span multiple lines.\n",
        "'''\n",
        "print(\"Hello, World!\")\n",
        "\n",
        "\"\"\"\n",
        "Another way to write a multi-line comment.\n",
        "Useful for larger comments.\n",
        "\"\"\"\n",
        "print(\"Hello, again!\")\n"
      ],
      "metadata": {
        "id": "4FOJ-KE9AI5q"
      },
      "execution_count": null,
      "outputs": []
    },
    {
      "cell_type": "markdown",
      "source": [
        "#The Program Development Life Cycle (PDLC)"
      ],
      "metadata": {
        "id": "Xm9N9zgKBX9g"
      }
    },
    {
      "cell_type": "markdown",
      "source": [
        "\n",
        "**Analysis:**\n",
        "\n",
        "* Gather detailed requirements and understand the problem domain.\n",
        "* Identify inputs, processes, and outputs.\n",
        "\n",
        "**Design:**\n",
        "\n",
        "* Develop a detailed plan for the program’s architecture.\n",
        "* Create algorithms, flowcharts, and pseudocode to outline the program logic.\n",
        "\n",
        "**Coding/Implementation:**\n",
        "\n",
        "* Write the actual code in Python based on the design specifications.\n",
        "\n",
        "**Testing:**\n",
        "\n",
        "* Test the program to find and fix errors (bugs).\n",
        "\n",
        "\n",
        "\n",
        "**Debugging:**\n",
        "\n",
        "* Identify and correct defects in the code.\n",
        "* Use debugging tools and techniques, such as print statements, logging, or Python debuggers (pdb).\n",
        "\n",
        "**Deployment:**\n",
        "\n",
        "* Prepare the program for release.\n",
        "* Create installation packages, if necessary.\n",
        "* Deploy the program to the production environment.\n",
        "\n",
        "**Maintenance:**\n",
        "\n",
        "* Monitor the program’s performance and fix any issues that arise.\n",
        "* Update the program to accommodate changes in requirements or the environment.\n",
        "* Provide user support and documentation."
      ],
      "metadata": {
        "id": "qKiqWR06Bae-"
      }
    },
    {
      "cell_type": "markdown",
      "source": [
        "# Keywordes"
      ],
      "metadata": {
        "id": "eKiCzjXqC8bh"
      }
    },
    {
      "cell_type": "markdown",
      "source": [
        "\n",
        "In Python, keywords are reserved words that have special meaning and are used to define the syntax and structure of the Python language. These keywords cannot be used as identifiers (variable names, function names, etc.). There are 35 key wordes,Here's a list of Python keywords:\n",
        "\n",
        "False\n",
        "\n",
        "None        \n",
        "\n",
        "True        \n",
        "\n",
        "and       \n",
        "\n",
        "as        \n",
        "\n",
        "assert\n",
        "\n",
        "async\n",
        "\n",
        "await\n",
        "\n",
        "break\n",
        "\n",
        "class\n",
        "\n",
        "continue\n",
        "\n",
        "def\n",
        "\n",
        "del\n",
        "\n",
        "elif\n",
        "\n",
        "else\n",
        "\n",
        "except\n",
        "\n",
        "finally\n",
        "\n",
        "for\n",
        "\n",
        "from\n",
        "\n",
        "global\n",
        "\n",
        "if\n",
        "\n",
        "import\n",
        "\n",
        "in\n",
        "\n",
        "is\n",
        "\n",
        "lambda\n",
        "\n",
        "nonlocal\n",
        "\n",
        "not\n",
        "\n",
        "or\n",
        "\n",
        "pass\n",
        "\n",
        "raise\n",
        "\n",
        "return\n",
        "\n",
        "try\n",
        "\n",
        "while\n",
        "\n",
        "with\n",
        "\n",
        "yield\n",
        "\n",
        "\n",
        "\n",
        "\n",
        "\n",
        "\n"
      ],
      "metadata": {
        "id": "ILuWgbYUDRKT"
      }
    },
    {
      "cell_type": "markdown",
      "source": [
        "# Identifiers or variables"
      ],
      "metadata": {
        "id": "zDPoDNJ5FSc3"
      }
    },
    {
      "cell_type": "markdown",
      "source": [
        "\n",
        "Identifiers in Python are names used to identify a variable, function, class, module, or other objects. They are user-defined names used to represent elements in the code. Here are the rules and conventions for naming identifiers in Python:"
      ],
      "metadata": {
        "id": "aORKvQqRFU_M"
      }
    },
    {
      "cell_type": "markdown",
      "source": [
        "# Rules for Naming Identifiers"
      ],
      "metadata": {
        "id": "RkY4IU3LFjAH"
      }
    },
    {
      "cell_type": "markdown",
      "source": [
        "\n",
        "**Allowed Characters:**\n",
        "\n",
        "* Identifiers can consist of letters (both uppercase and lowercase), digits (0-9), and underscores (_).\n",
        "* They cannot start with a digit."
      ],
      "metadata": {
        "id": "ij72uKf5Fk7Q"
      }
    },
    {
      "cell_type": "code",
      "source": [
        "a1 = 10  # Valid\n",
        "_a = 20  # Valid\n",
        "print(a1)\n",
        "print(_a)\n",
        "\n"
      ],
      "metadata": {
        "id": "KS0grTQjFzFu",
        "colab": {
          "base_uri": "https://localhost:8080/"
        },
        "outputId": "fc8d260f-33e6-41ad-ba36-cbd1dd7e65ca"
      },
      "execution_count": null,
      "outputs": [
        {
          "output_type": "stream",
          "name": "stdout",
          "text": [
            "10\n",
            "20\n"
          ]
        }
      ]
    },
    {
      "cell_type": "code",
      "source": [
        "1a = 30  # Invalid"
      ],
      "metadata": {
        "id": "_45KXBxoZ1kh"
      },
      "execution_count": null,
      "outputs": []
    },
    {
      "cell_type": "markdown",
      "source": [
        "**Keywords:**\n",
        "\n",
        "* Identifiers cannot be the same as Python keywords (reserved words) like if, else, for, while, etc"
      ],
      "metadata": {
        "id": "oeOQuLbCGVA1"
      }
    },
    {
      "cell_type": "code",
      "source": [
        "for = 10  # Invalid\n",
        "For = 20  # Valid, but not recommended\n",
        "print(For)\n"
      ],
      "metadata": {
        "id": "7CUG_kVyGdcv",
        "colab": {
          "base_uri": "https://localhost:8080/",
          "height": 106
        },
        "outputId": "2a48948b-ebe4-47eb-93f3-3d486b9263e5"
      },
      "execution_count": null,
      "outputs": [
        {
          "output_type": "error",
          "ename": "SyntaxError",
          "evalue": "invalid syntax (<ipython-input-2-4e9047152468>, line 1)",
          "traceback": [
            "\u001b[0;36m  File \u001b[0;32m\"<ipython-input-2-4e9047152468>\"\u001b[0;36m, line \u001b[0;32m1\u001b[0m\n\u001b[0;31m    for = 10  # Invalid\u001b[0m\n\u001b[0m        ^\u001b[0m\n\u001b[0;31mSyntaxError\u001b[0m\u001b[0;31m:\u001b[0m invalid syntax\n"
          ]
        }
      ]
    },
    {
      "cell_type": "markdown",
      "source": [
        "**No Spaces:**\n",
        "\n",
        "* Identifiers cannot contain spaces. Use underscores to separate words."
      ],
      "metadata": {
        "id": "mBE-skLVGgi3"
      }
    },
    {
      "cell_type": "code",
      "source": [
        "my_variable = 10  # Valid\n",
        "my variable = 20  # Invalid\n"
      ],
      "metadata": {
        "id": "rZzvKKB8Gl8U"
      },
      "execution_count": null,
      "outputs": []
    },
    {
      "cell_type": "markdown",
      "source": [
        "# Assignment in variables"
      ],
      "metadata": {
        "id": "wEeGnc8jGshE"
      }
    },
    {
      "cell_type": "code",
      "source": [
        "k=10 #Assignment\n",
        "k=20 #re Assignment\n",
        "k,t=20,30 #Multiple Assignment\n",
        "a=b=c=10 #Multiple Assignment\n"
      ],
      "metadata": {
        "id": "oNzf-yVLHVM_"
      },
      "execution_count": null,
      "outputs": []
    },
    {
      "cell_type": "markdown",
      "source": [
        "# Python operators"
      ],
      "metadata": {
        "id": "pjeV51kYHzat"
      }
    },
    {
      "cell_type": "markdown",
      "source": [
        "Python operators are special symbols or keywords that perform operations on variables and values. They are used to perform arithmetic, comparison, logical, and bitwise operations. Here’s a summary of the different types of operators in Python:"
      ],
      "metadata": {
        "id": "FVsix1H1ILNs"
      }
    },
    {
      "cell_type": "markdown",
      "source": [
        "**1 Arithmetic Operators**\n",
        "\n",
        "These operators are used for basic arithmetic operations.\n",
        "\n",
        "Addition (+): Adds two values."
      ],
      "metadata": {
        "id": "MQzvRzs7IMa6"
      }
    },
    {
      "cell_type": "code",
      "source": [
        "x = 5 + 3  # x is 8\n"
      ],
      "metadata": {
        "id": "tK82W6YvIS2s"
      },
      "execution_count": null,
      "outputs": []
    },
    {
      "cell_type": "markdown",
      "source": [
        "Subtraction (-): Subtracts the second value from the first."
      ],
      "metadata": {
        "id": "6fI4j-RzIVFE"
      }
    },
    {
      "cell_type": "code",
      "source": [
        "x = 10 - 4  # x is 6\n"
      ],
      "metadata": {
        "id": "8smOlGnwIp2H"
      },
      "execution_count": null,
      "outputs": []
    },
    {
      "cell_type": "markdown",
      "source": [
        "Multiplication (*): Multiplies two values."
      ],
      "metadata": {
        "id": "I-2WtiOjIZAQ"
      }
    },
    {
      "cell_type": "code",
      "source": [
        "x = 7 * 6  # x is 42\n"
      ],
      "metadata": {
        "id": "KqavtAC8IrEM"
      },
      "execution_count": null,
      "outputs": []
    },
    {
      "cell_type": "markdown",
      "source": [
        "Division (/): Divides the first value by the second, returns a float."
      ],
      "metadata": {
        "id": "ynubyc9cIeG7"
      }
    },
    {
      "cell_type": "code",
      "source": [
        "x = 15 / 3  # x is 5.0\n"
      ],
      "metadata": {
        "id": "XnvJxtqSItYX"
      },
      "execution_count": null,
      "outputs": []
    },
    {
      "cell_type": "markdown",
      "source": [
        "Floor Division (//): Divides the first value by the second, returns an integer (removes the decimal part)."
      ],
      "metadata": {
        "id": "FhdI0VQaIhIM"
      }
    },
    {
      "cell_type": "code",
      "source": [
        "x = 15 // 4  # x is 3\n"
      ],
      "metadata": {
        "id": "wcKHVQltIwtO"
      },
      "execution_count": null,
      "outputs": []
    },
    {
      "cell_type": "markdown",
      "source": [
        "Modulus (%): Returns the remainder of division."
      ],
      "metadata": {
        "id": "RqRmz_nHIjRU"
      }
    },
    {
      "cell_type": "code",
      "source": [
        "x = 10 % 3  # x is 1\n"
      ],
      "metadata": {
        "id": "9z6I0TFtIyqJ"
      },
      "execution_count": null,
      "outputs": []
    },
    {
      "cell_type": "markdown",
      "source": [
        "Exponentiation (**): Raises the first value to the power of the second."
      ],
      "metadata": {
        "id": "jIp9twoiInBu"
      }
    },
    {
      "cell_type": "code",
      "source": [
        "x = 2 ** 3  # x is 8\n"
      ],
      "metadata": {
        "id": "IRmZ4O7NI0z5"
      },
      "execution_count": null,
      "outputs": []
    },
    {
      "cell_type": "markdown",
      "source": [
        "**2 Relational Operators**\n",
        "\n",
        "These operators compare two values and return a boolean result (True or False).\n",
        "\n",
        "Equal to (==): Checks if two values are equal."
      ],
      "metadata": {
        "id": "Z6KE8TNQI_U8"
      }
    },
    {
      "cell_type": "code",
      "source": [
        "x = (5 == 5)  # x is True\n"
      ],
      "metadata": {
        "id": "83zCG83CJLmM"
      },
      "execution_count": null,
      "outputs": []
    },
    {
      "cell_type": "markdown",
      "source": [
        "Not equal to (!=): Checks if two values are not equal."
      ],
      "metadata": {
        "id": "xRXHCCdvJOTN"
      }
    },
    {
      "cell_type": "code",
      "source": [
        "x = (5 != 3)  # x is True\n"
      ],
      "metadata": {
        "id": "J-g7jKfdJQGR"
      },
      "execution_count": null,
      "outputs": []
    },
    {
      "cell_type": "markdown",
      "source": [
        "Greater than (>): Checks if the first value is greater than the second."
      ],
      "metadata": {
        "id": "TF_Gp7mpJSon"
      }
    },
    {
      "cell_type": "code",
      "source": [
        "x = (7 > 5)  # x is True\n"
      ],
      "metadata": {
        "id": "54R1cu8_JUeA"
      },
      "execution_count": null,
      "outputs": []
    },
    {
      "cell_type": "markdown",
      "source": [
        "Less than (<): Checks if the first value is less than the second.\n",
        "\n",
        "\n"
      ],
      "metadata": {
        "id": "d-rObcOPJXb3"
      }
    },
    {
      "cell_type": "code",
      "source": [
        "x = (3 < 5)  # x is True\n"
      ],
      "metadata": {
        "id": "p-P0iWzAJd0_"
      },
      "execution_count": null,
      "outputs": []
    },
    {
      "cell_type": "markdown",
      "source": [
        "Greater than or equal to (>=): Checks if the first value is greater than or equal to the second."
      ],
      "metadata": {
        "id": "ahMmlbjsJfZ2"
      }
    },
    {
      "cell_type": "code",
      "source": [
        "x = (5 >= 5)  # x is True\n"
      ],
      "metadata": {
        "id": "jnCKClXqJj0V"
      },
      "execution_count": null,
      "outputs": []
    },
    {
      "cell_type": "markdown",
      "source": [
        "Less than or equal to (<=): Checks if the first value is less than or equal to the second."
      ],
      "metadata": {
        "id": "tt4GD2yWJl8W"
      }
    },
    {
      "cell_type": "code",
      "source": [
        "x = (4 <= 5)  # x is True\n"
      ],
      "metadata": {
        "id": "b80lkAT8Joks"
      },
      "execution_count": null,
      "outputs": []
    },
    {
      "cell_type": "markdown",
      "source": [
        " **3 Logical Operators**\n",
        "\n",
        "These operators are used to combine conditional statements.\n",
        "\n",
        "And (and): Returns True if both conditions are true."
      ],
      "metadata": {
        "id": "V11qWg2CJqVw"
      }
    },
    {
      "cell_type": "code",
      "source": [
        "x = (5 > 3) and (8 > 6)  # x is True\n"
      ],
      "metadata": {
        "id": "W38obBTMKH19"
      },
      "execution_count": null,
      "outputs": []
    },
    {
      "cell_type": "markdown",
      "source": [
        "Or (or): Returns True if at least one of the conditions is true."
      ],
      "metadata": {
        "id": "syjBv0A_KMKA"
      }
    },
    {
      "cell_type": "code",
      "source": [
        "x = (5 > 3) or (8 < 6)  # x is True\n"
      ],
      "metadata": {
        "id": "1oXL7TguKM-w"
      },
      "execution_count": null,
      "outputs": []
    },
    {
      "cell_type": "markdown",
      "source": [
        "Not (not): Returns True if the condition is false."
      ],
      "metadata": {
        "id": "rhYcTQ1cKONd"
      }
    },
    {
      "cell_type": "code",
      "source": [
        "x = not (5 > 3)  # x is False\n"
      ],
      "metadata": {
        "id": "TGW-gyIAKSGu"
      },
      "execution_count": null,
      "outputs": []
    },
    {
      "cell_type": "markdown",
      "source": [
        "**4 Bitwise Operators**\n",
        "\n",
        "These operators perform bit-level operations.\n",
        "\n",
        "AND (&): Performs a bitwise AND operation."
      ],
      "metadata": {
        "id": "A4k06Gx7KXXm"
      }
    },
    {
      "cell_type": "code",
      "source": [
        "x = 5 & 3  # x is 1 (binary 0101 & 0011)\n"
      ],
      "metadata": {
        "id": "JeYw1NbdKccU"
      },
      "execution_count": null,
      "outputs": []
    },
    {
      "cell_type": "markdown",
      "source": [
        "OR (|): Performs a bitwise OR operation."
      ],
      "metadata": {
        "id": "Eb3eK-llKeAK"
      }
    },
    {
      "cell_type": "code",
      "source": [
        "x = 5 | 3  # x is 7 (binary 0101 | 0011)"
      ],
      "metadata": {
        "id": "LH-pRMnpKgDQ"
      },
      "execution_count": null,
      "outputs": []
    },
    {
      "cell_type": "markdown",
      "source": [
        "XOR (^): Performs a bitwise XOR operation."
      ],
      "metadata": {
        "id": "7yCRbF6ZKhp0"
      }
    },
    {
      "cell_type": "code",
      "source": [
        "x = 5 ^ 3  # x is 6 (binary 0101 ^ 0011)"
      ],
      "metadata": {
        "id": "lhdic97sKjYO"
      },
      "execution_count": null,
      "outputs": []
    },
    {
      "cell_type": "markdown",
      "source": [
        "NOT (~): Performs a bitwise NOT operation (inverts the bits)."
      ],
      "metadata": {
        "id": "GKTgQ_HLKo7l"
      }
    },
    {
      "cell_type": "code",
      "source": [
        "x = ~5  # x is -6 (binary ~0101)\n",
        "x"
      ],
      "metadata": {
        "id": "TYNEoEMcKps5",
        "outputId": "ec33609a-05b6-46a9-bc50-a038571d2b7a",
        "colab": {
          "base_uri": "https://localhost:8080/"
        }
      },
      "execution_count": null,
      "outputs": [
        {
          "output_type": "execute_result",
          "data": {
            "text/plain": [
              "-6"
            ]
          },
          "metadata": {},
          "execution_count": 5
        }
      ]
    },
    {
      "cell_type": "markdown",
      "source": [
        "Left Shift (<<): Shifts the bits to the left."
      ],
      "metadata": {
        "id": "TxuZMjwbKq-x"
      }
    },
    {
      "cell_type": "code",
      "source": [
        "x = 5 << 1  # x is 10 (binary 0101 << 1)\n"
      ],
      "metadata": {
        "id": "RFaMJomMKtIk"
      },
      "execution_count": null,
      "outputs": []
    },
    {
      "cell_type": "markdown",
      "source": [
        "Right Shift (>>): Shifts the bits to the right."
      ],
      "metadata": {
        "id": "WUxieUF4KwF8"
      }
    },
    {
      "cell_type": "code",
      "source": [
        "x = 5 >> 1  # x is 2 (binary 0101 >> 1)\n"
      ],
      "metadata": {
        "id": "kiDtma0OKyOc"
      },
      "execution_count": null,
      "outputs": []
    },
    {
      "cell_type": "markdown",
      "source": [
        "**5 Assignment Operators**\n",
        "\n",
        "These operators are used to assign values to variables.\n",
        "\n",
        "Assign (=): Assigns a value to a variable."
      ],
      "metadata": {
        "id": "Q2wneAu-K1or"
      }
    },
    {
      "cell_type": "code",
      "source": [
        "x = 10\n"
      ],
      "metadata": {
        "id": "SUd8gQzwK6Si"
      },
      "execution_count": null,
      "outputs": []
    },
    {
      "cell_type": "markdown",
      "source": [
        "Add and Assign (+=): Adds and assigns a value to a variable."
      ],
      "metadata": {
        "id": "qjoIPoD3K8cl"
      }
    },
    {
      "cell_type": "code",
      "source": [
        "x += 5  # Equivalent to x = x + 5\n"
      ],
      "metadata": {
        "id": "HGrarKo5K-OA"
      },
      "execution_count": null,
      "outputs": []
    },
    {
      "cell_type": "markdown",
      "source": [
        "Subtract and Assign (-=): Subtracts and assigns a value to a variable."
      ],
      "metadata": {
        "id": "KkapwBSaLBYm"
      }
    },
    {
      "cell_type": "code",
      "source": [
        "x -= 2  # Equivalent to x = x - 2\n"
      ],
      "metadata": {
        "id": "HyX_7WWhLB97"
      },
      "execution_count": null,
      "outputs": []
    },
    {
      "cell_type": "markdown",
      "source": [
        "Multiply and Assign (*=): Multiplies and assigns a value to a variable."
      ],
      "metadata": {
        "id": "QhNX6mZhLD-n"
      }
    },
    {
      "cell_type": "code",
      "source": [
        "x *= 3  # Equivalent to x = x * 3\n"
      ],
      "metadata": {
        "id": "CWQT5YgELHe7"
      },
      "execution_count": null,
      "outputs": []
    },
    {
      "cell_type": "markdown",
      "source": [
        "Divide and Assign (/=): Divides and assigns a value to a variable."
      ],
      "metadata": {
        "id": "-yN9VR1BLJx5"
      }
    },
    {
      "cell_type": "code",
      "source": [
        "x /= 4  # Equivalent to x = x / 4\n"
      ],
      "metadata": {
        "id": "9cEZxl4tLLM_"
      },
      "execution_count": null,
      "outputs": []
    },
    {
      "cell_type": "markdown",
      "source": [
        "Modulus and Assign (%=): Applies modulus and assigns a value to a variable"
      ],
      "metadata": {
        "id": "3oqFDDeFLN3T"
      }
    },
    {
      "cell_type": "code",
      "source": [
        "x %= 2  # Equivalent to x = x % 2\n"
      ],
      "metadata": {
        "id": "JSjNU6cuLPlt"
      },
      "execution_count": null,
      "outputs": []
    },
    {
      "cell_type": "markdown",
      "source": [
        "Exponent and Assign (**=): Applies exponentiation and assigns a value to a variable.\n"
      ],
      "metadata": {
        "id": "BJP305ueLT_p"
      }
    },
    {
      "cell_type": "code",
      "source": [
        "x **= 2  # Equivalent to x = x ** 2\n"
      ],
      "metadata": {
        "id": "ZFpLopNRLVb-"
      },
      "execution_count": null,
      "outputs": []
    },
    {
      "cell_type": "markdown",
      "source": [
        "Floor Divide and Assign (//=): Applies floor division and assigns a value to a variable."
      ],
      "metadata": {
        "id": "iWlP1pAHLZuj"
      }
    },
    {
      "cell_type": "code",
      "source": [
        "x //= 3  # Equivalent to x = x // 3\n"
      ],
      "metadata": {
        "id": "9dgN09jxLah4"
      },
      "execution_count": null,
      "outputs": []
    },
    {
      "cell_type": "markdown",
      "source": [
        "**6 Membership Operators**\n",
        "\n",
        "These operators test for membership in a sequence.\n",
        "\n",
        "In (in): Checks if a value is present in a sequence."
      ],
      "metadata": {
        "id": "Z_Z6GSQ_Lgmp"
      }
    },
    {
      "cell_type": "code",
      "source": [
        "x = 5\n",
        "result = x in [1, 2, 3, 4, 5]  # result is True\n"
      ],
      "metadata": {
        "id": "ClXnHExELllK"
      },
      "execution_count": null,
      "outputs": []
    },
    {
      "cell_type": "markdown",
      "source": [
        "Not In (not in): Checks if a value is not present in a sequence."
      ],
      "metadata": {
        "id": "f2OuSAUHLnuP"
      }
    },
    {
      "cell_type": "code",
      "source": [
        "x = 10\n",
        "result = x not in [1, 2, 3, 4, 5]  # result is True\n"
      ],
      "metadata": {
        "id": "fpVE8ngrLoov"
      },
      "execution_count": null,
      "outputs": []
    },
    {
      "cell_type": "markdown",
      "source": [
        "**7 Identity Operators**\n",
        "\n",
        "These operators compare the memory locations of two objects.\n",
        "\n",
        "Is (is): Checks if two variables point to the same object."
      ],
      "metadata": {
        "id": "WLoHuvGKLuWC"
      }
    },
    {
      "cell_type": "code",
      "source": [
        "x = [1, 2, 3]\n",
        "y = x\n",
        "result = x is y  # result is True\n"
      ],
      "metadata": {
        "id": "aiQHLexvL43b"
      },
      "execution_count": null,
      "outputs": []
    },
    {
      "cell_type": "markdown",
      "source": [
        "Is Not (is not): Checks if two variables point to different objects."
      ],
      "metadata": {
        "id": "kVoGhkHhL9L1"
      }
    },
    {
      "cell_type": "code",
      "source": [
        "x = [1, 2, 3]\n",
        "y = [1, 2, 3]\n",
        "result = x is not y  # result is True\n"
      ],
      "metadata": {
        "id": "vBNkh-tLL93S"
      },
      "execution_count": null,
      "outputs": []
    },
    {
      "cell_type": "markdown",
      "source": [
        "# Data types\n"
      ],
      "metadata": {
        "id": "cxC7-Uk7MnhP"
      }
    },
    {
      "cell_type": "markdown",
      "source": [
        "In Python, data types define the kind of data that can be stored and manipulated within a program. Here’s an overview of the fundamental data types in Python:\n",
        "\n",
        "**1. Numeric Types**\n",
        "\n",
        "Integer (int): Whole numbers without a decimal point."
      ],
      "metadata": {
        "id": "h1Tiig5GMqaN"
      }
    },
    {
      "cell_type": "code",
      "source": [
        "age = 25\n"
      ],
      "metadata": {
        "id": "965zYuqiMzEP"
      },
      "execution_count": null,
      "outputs": []
    },
    {
      "cell_type": "markdown",
      "source": [
        "Float (float): Numbers with a decimal point."
      ],
      "metadata": {
        "id": "mmwzKaBuM08Y"
      }
    },
    {
      "cell_type": "code",
      "source": [
        "temperature = 23.5\n"
      ],
      "metadata": {
        "id": "Kp1ADGQ8M3Jx"
      },
      "execution_count": null,
      "outputs": []
    },
    {
      "cell_type": "markdown",
      "source": [
        "Complex (complex): Numbers with a real and imaginary part.z = 2 + 3j\n"
      ],
      "metadata": {
        "id": "9BoMF-C-M6rH"
      }
    },
    {
      "cell_type": "code",
      "source": [],
      "metadata": {
        "id": "6TuaysPwM9c4"
      },
      "execution_count": null,
      "outputs": []
    },
    {
      "cell_type": "code",
      "source": [
        "z = 2 + 3j\n"
      ],
      "metadata": {
        "id": "sC3DIiBiM9pE"
      },
      "execution_count": null,
      "outputs": []
    },
    {
      "cell_type": "markdown",
      "source": [
        "**2. Sequence Types**\n",
        "\n",
        "String (str): A sequence of characters enclosed in single, double, or triple quotes."
      ],
      "metadata": {
        "id": "YAjkht44M-lW"
      }
    },
    {
      "cell_type": "code",
      "source": [
        "name = \"Alice\"\n",
        "multiline_string = \"\"\"This is a\n",
        "multiline string.\"\"\"\n"
      ],
      "metadata": {
        "id": "xr0FI2zSNDdW"
      },
      "execution_count": null,
      "outputs": []
    },
    {
      "cell_type": "markdown",
      "source": [
        "List (list): An ordered, mutable collection of items."
      ],
      "metadata": {
        "id": "gw83DcsRNF47"
      }
    },
    {
      "cell_type": "code",
      "source": [
        "numbers = [1, 2, 3, 4, 5]\n"
      ],
      "metadata": {
        "id": "wW8aIBHRNGyU"
      },
      "execution_count": null,
      "outputs": []
    },
    {
      "cell_type": "markdown",
      "source": [
        "Tuple (tuple): An ordered, immutable collection of items."
      ],
      "metadata": {
        "id": "TONbWO9FNJkd"
      }
    },
    {
      "cell_type": "code",
      "source": [
        "coordinates = (10, 20)\n"
      ],
      "metadata": {
        "id": "wnoU4ycTNQf7"
      },
      "execution_count": null,
      "outputs": []
    },
    {
      "cell_type": "markdown",
      "source": [
        "**4Set Types**\n",
        "\n",
        "Set (set): An unordered collection of unique items."
      ],
      "metadata": {
        "id": "IG1reNsoNXj1"
      }
    },
    {
      "cell_type": "code",
      "source": [
        "unique_numbers = {1, 2, 3, 4, 5}\n"
      ],
      "metadata": {
        "id": "iagjHQJCNcTm"
      },
      "execution_count": null,
      "outputs": []
    },
    {
      "cell_type": "markdown",
      "source": [
        "**5. Boolean Type**\n",
        "\n",
        "Boolean (bool): Represents True or False"
      ],
      "metadata": {
        "id": "I3VUq0kRNimu"
      }
    },
    {
      "cell_type": "code",
      "source": [
        "is_active = True\n"
      ],
      "metadata": {
        "id": "UpTZNID0Nnfk"
      },
      "execution_count": null,
      "outputs": []
    },
    {
      "cell_type": "markdown",
      "source": [
        "# Conditional statements"
      ],
      "metadata": {
        "id": "fXrXMFOnOWP3"
      }
    },
    {
      "cell_type": "markdown",
      "source": [
        "Conditional statements in Python allow you to execute different blocks of code based on certain conditions. They help in making decisions in your code. Here’s a summary of the primary conditional statements in Python:\n",
        "\n",
        "**1. if Statement**\n",
        "\n",
        "The if statement evaluates a condition (an expression that returns True or False) and executes the block of code inside it if the condition is True."
      ],
      "metadata": {
        "id": "DTjIdxsNOX8N"
      }
    },
    {
      "cell_type": "markdown",
      "source": [
        "# syntax"
      ],
      "metadata": {
        "id": "L9kUpik5PKTz"
      }
    },
    {
      "cell_type": "code",
      "source": [
        "if condition:\n",
        "    # Code to execute if condition is True\n"
      ],
      "metadata": {
        "id": "UoxfsNkAPMH7"
      },
      "execution_count": null,
      "outputs": []
    },
    {
      "cell_type": "code",
      "source": [
        "x = 10\n",
        "\n",
        "if x > 5:\n",
        "    print(\"x is greater than 5\")\n"
      ],
      "metadata": {
        "id": "1vzRg6BUOpyj",
        "colab": {
          "base_uri": "https://localhost:8080/"
        },
        "outputId": "ab3879ae-254a-43d6-afe2-de70768e051d"
      },
      "execution_count": null,
      "outputs": [
        {
          "output_type": "stream",
          "name": "stdout",
          "text": [
            "x is greater than 5\n"
          ]
        }
      ]
    },
    {
      "cell_type": "markdown",
      "source": [
        "**2. if-else Statement**\n",
        "\n",
        "The if-else statement provides an alternative block of code to execute when the condition is False."
      ],
      "metadata": {
        "id": "SV5BbKXGOi9p"
      }
    },
    {
      "cell_type": "markdown",
      "source": [
        "# syntax"
      ],
      "metadata": {
        "id": "TmhOpsqFPTLh"
      }
    },
    {
      "cell_type": "code",
      "source": [
        "if condition:\n",
        "    # Code to execute if condition is True\n",
        "else:\n",
        "    # Code to execute if condition is False\n"
      ],
      "metadata": {
        "id": "QwgXyWj0PSkm"
      },
      "execution_count": null,
      "outputs": []
    },
    {
      "cell_type": "code",
      "source": [
        "x = 4\n",
        "\n",
        "if x > 5:\n",
        "    print(\"x is greater than 5\")\n",
        "else:\n",
        "    print(\"x is 5 or less\")\n"
      ],
      "metadata": {
        "id": "E91d17jmOrmf"
      },
      "execution_count": null,
      "outputs": []
    },
    {
      "cell_type": "markdown",
      "source": [
        "**3. if-elif-else Statement**\n",
        "\n",
        "The if-elif-else statement allows you to check multiple conditions sequentially. If the if condition is False, it checks the elif conditions. If none of the conditions are True, it executes the else block."
      ],
      "metadata": {
        "id": "7tIltzCcOtx1"
      }
    },
    {
      "cell_type": "markdown",
      "source": [
        "## syntax"
      ],
      "metadata": {
        "id": "wmYcM965PaCD"
      }
    },
    {
      "cell_type": "code",
      "source": [
        "if condition1:\n",
        "    # Code to execute if condition1 is True\n",
        "elif condition2:\n",
        "    # Code to execute if condition2 is True\n",
        "else:\n",
        "    # Code to execute if none of the conditions are True\n"
      ],
      "metadata": {
        "id": "NktqyZOBPind"
      },
      "execution_count": null,
      "outputs": []
    },
    {
      "cell_type": "code",
      "source": [
        "x = 7\n",
        "\n",
        "if x > 10:\n",
        "    print(\"x is greater than 10\")\n",
        "elif x > 5:\n",
        "    print(\"x is greater than 5 but not greater than 10\")\n",
        "else:\n",
        "    print(\"x is 5 or less\")\n"
      ],
      "metadata": {
        "id": "UL7X3P8CPk_T"
      },
      "execution_count": null,
      "outputs": []
    },
    {
      "cell_type": "markdown",
      "source": [
        "**4. Nested if Statements**\n",
        "\n",
        "You can nest if statements inside other if statements to handle more complex scenarios."
      ],
      "metadata": {
        "id": "Q1peN_xLO0vg"
      }
    },
    {
      "cell_type": "markdown",
      "source": [
        "# syntax"
      ],
      "metadata": {
        "id": "kmTn-m9JPbWe"
      }
    },
    {
      "cell_type": "code",
      "source": [
        "if condition1:\n",
        "    # Code to execute if condition1 is True\n",
        "    if condition2:\n",
        "        # Code to execute if condition2 is True\n",
        "    else:\n",
        "        # Code to execute if condition2 is False\n",
        "else:\n",
        "    # Code to execute if condition1 is False\n"
      ],
      "metadata": {
        "id": "d2WeD3c_Pp6f"
      },
      "execution_count": null,
      "outputs": []
    },
    {
      "cell_type": "code",
      "source": [
        "x = 8\n",
        "y = 12\n",
        "\n",
        "if x > 5:\n",
        "    if y > 10:\n",
        "        print(\"x is greater than 5 and y is greater than 10\")\n",
        "    else:\n",
        "        print(\"x is greater than 5 but y is 10 or less\")\n",
        "else:\n",
        "    print(\"x is 5 or less\")\n"
      ],
      "metadata": {
        "id": "Tp_jqYLvO4f6"
      },
      "execution_count": null,
      "outputs": []
    }
  ]
}